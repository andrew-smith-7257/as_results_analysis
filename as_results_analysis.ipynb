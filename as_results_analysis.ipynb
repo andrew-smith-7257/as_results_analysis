{
 "cells": [
  {
   "cell_type": "markdown",
   "id": "d2acd942",
   "metadata": {},
   "source": [
    "### Imports"
   ]
  },
  {
   "cell_type": "code",
   "execution_count": 1,
   "id": "723e112c",
   "metadata": {},
   "outputs": [],
   "source": [
    "import pandas as pd \n",
    "import numpy as np \n",
    "import matplotlib.pyplot as plt\n",
    "import seaborn as sns\n",
    "from pywaffle import Waffle\n",
    "from difflib import SequenceMatcher"
   ]
  },
  {
   "cell_type": "markdown",
   "id": "d381d2b8",
   "metadata": {},
   "source": [
    "### Processing "
   ]
  },
  {
   "cell_type": "code",
   "execution_count": 2,
   "id": "84ced161",
   "metadata": {},
   "outputs": [
    {
     "name": "stderr",
     "output_type": "stream",
     "text": [
      "/Users/andrewsmith/.pyenv/versions/3.8.6/envs/lewagon/lib/python3.8/site-packages/openpyxl/worksheet/header_footer.py:48: UserWarning: Cannot parse header or footer so it will be ignored\n",
      "  warn(\"\"\"Cannot parse header or footer so it will be ignored\"\"\")\n"
     ]
    }
   ],
   "source": [
    "df_1=pd.read_excel(\"../raw_data/as_1_4_results.xlsx\")\n",
    "df_2=pd.read_excel(\"../raw_data/as_5_9_results.xlsx\")\n",
    "df_3=pd.read_excel(\"../raw_data/as_10_results.xlsx\")\n",
    "predicted_grades=pd.read_csv(\"../raw_data/as_predicted_results.csv\")"
   ]
  },
  {
   "cell_type": "code",
   "execution_count": 3,
   "id": "d094c07d",
   "metadata": {},
   "outputs": [],
   "source": [
    "predicted_grades[\"Candidate name\"]=predicted_grades[\"Candidate name\"].apply(lambda x:x.replace(\" \",\"\").replace(\":\",\"\"))"
   ]
  },
  {
   "cell_type": "code",
   "execution_count": 4,
   "id": "45f5da93",
   "metadata": {},
   "outputs": [],
   "source": [
    "def processing_function(df):\n",
    "    column_names = ['Syllabus',\n",
    "     'Option code',\n",
    "     'Centre number',\n",
    "     'Class',\n",
    "     'English Name',\n",
    "     'Candidate name',\n",
    "     'Component 12 raw mark',\n",
    "     'Component 12 adjusted mark',\n",
    "     'Component 12 grade',\n",
    "     'Component 22 raw mark',\n",
    "     'Component 22 adjusted mark',\n",
    "     'Component 22 grade',\n",
    "     'Component 12 final mark',\n",
    "     'Component 22 final mark',\n",
    "     'Syllabus total mark',\n",
    "     'Syllabus grade']\n",
    "    df.columns=column_names\n",
    "    df = df.drop(index=[list(df.index)[i] for i in [0,1,-2,-1]])\n",
    "    df = df.reset_index(drop=True)\n",
    "    df.drop(index=[0])\n",
    "    df=df.dropna()\n",
    "    df[\"Syllabus grade\"] = df[\"Syllabus grade\"].apply(lambda x:x.upper())\n",
    "    df[\"Candidate name\"] = df[\"Candidate name\"].apply(lambda x:x.replace(\":\",\"\").replace(\" \",\"\").upper())\n",
    "    return df"
   ]
  },
  {
   "cell_type": "markdown",
   "id": "0612ff13",
   "metadata": {},
   "source": [
    "### Processed df"
   ]
  },
  {
   "cell_type": "code",
   "execution_count": 5,
   "id": "c8ad2320",
   "metadata": {
    "scrolled": true
   },
   "outputs": [],
   "source": [
    "df = pd.concat([processing_function(df_1).drop(index=[0]),processing_function(df_2).drop(index=[0]),processing_function(df_3).drop(index=[0])]).sort_values(by=\"Syllabus grade\",ignore_index=True)"
   ]
  },
  {
   "cell_type": "markdown",
   "id": "5af9ae3e",
   "metadata": {},
   "source": [
    "### Merging dfs"
   ]
  },
  {
   "cell_type": "code",
   "execution_count": 6,
   "id": "8eb8b70e",
   "metadata": {},
   "outputs": [],
   "source": [
    "def similar(a, b):\n",
    "    return SequenceMatcher(None, a, b).ratio()"
   ]
  },
  {
   "cell_type": "code",
   "execution_count": 7,
   "id": "b8dcb685",
   "metadata": {},
   "outputs": [],
   "source": [
    "def closest_match_finder(name,predicted_grades):\n",
    "    match_dict = dict()\n",
    "    for element in list(predicted_grades[\"Candidate name\"]):\n",
    "        match_dict[element]=similar(name,element)\n",
    "    key_list = list(match_dict.keys())\n",
    "    value_list = list(match_dict.values())\n",
    "    max_score = max(value_list)\n",
    "    name_predicted_grades = key_list[value_list.index(max_score)]\n",
    "    return (name_predicted_grades,name,max_score)\n",
    "        "
   ]
  },
  {
   "cell_type": "code",
   "execution_count": 8,
   "id": "730a56ac",
   "metadata": {},
   "outputs": [],
   "source": [
    "merged_df = df.merge(predicted_grades,on=\"Candidate name\",how=\"left\")"
   ]
  },
  {
   "cell_type": "code",
   "execution_count": 9,
   "id": "a5d5f55c",
   "metadata": {
    "scrolled": true
   },
   "outputs": [],
   "source": [
    "incorrect_names = list(merged_df[merged_df[\"Predicted grade\"].isna()][\"Candidate name\"])"
   ]
  },
  {
   "cell_type": "code",
   "execution_count": 10,
   "id": "5f41b85e",
   "metadata": {},
   "outputs": [],
   "source": [
    "correction_list = [closest_match_finder(element,predicted_grades) for element in incorrect_names]"
   ]
  },
  {
   "cell_type": "code",
   "execution_count": 11,
   "id": "d5e5ba28",
   "metadata": {},
   "outputs": [],
   "source": [
    "for element in correction_list: \n",
    "    if element[2]<0.8: \n",
    "        correction_list.remove(element)"
   ]
  },
  {
   "cell_type": "code",
   "execution_count": 12,
   "id": "09c7a9ab",
   "metadata": {},
   "outputs": [],
   "source": [
    "predicted_grades.set_index(\"Candidate name\",drop=False,inplace=True)\n",
    "for element in correction_list:\n",
    "    predicted_grades.loc[element[0],\"Candidate name\"]=element[1]\n",
    "    \n",
    "    "
   ]
  },
  {
   "cell_type": "code",
   "execution_count": 13,
   "id": "cd42c530",
   "metadata": {},
   "outputs": [],
   "source": [
    "predicted_grades.reset_index(drop=True,inplace=True)"
   ]
  },
  {
   "cell_type": "code",
   "execution_count": 14,
   "id": "5475c9ff",
   "metadata": {},
   "outputs": [],
   "source": [
    "merged_df = df.merge(predicted_grades,on=\"Candidate name\",how=\"left\").dropna()"
   ]
  },
  {
   "cell_type": "markdown",
   "id": "3a1a79e0",
   "metadata": {},
   "source": [
    "\n",
    "### Grade Graphing"
   ]
  },
  {
   "cell_type": "code",
   "execution_count": 29,
   "id": "c2b65781",
   "metadata": {},
   "outputs": [],
   "source": [
    "def prop_bar_overall_percentages(df): \n",
    "    x,y = 'Class', 'Syllabus grade'\n",
    "    df = df.groupby(x)[y].value_counts(normalize=True)\n",
    "    df = df.mul(100)\n",
    "    df = df.rename('Percent').reset_index()\n",
    "    sns.set()\n",
    "    g = sns.catplot(y=\"Syllabus grade\", \n",
    "                    x=\"Percent\",\n",
    "                    hue=\"Class\",\n",
    "                    kind='bar',\n",
    "                    data=df,\n",
    "                    order=[\"U\",\"E\",\"D\",\"C\",\"B\",\"A\"][::-1], \n",
    "                    hue_order=[\"AS10\",\"AS9\",\"AS6\",\"AS5\",\"AS4\",\"AS3\",\"AS2\",\"AS1\"][::-1],\n",
    "                    orient=\"h\",\n",
    "                    height=10,\n",
    "                    aspect=1.5,\n",
    "                    edgecolor=\"white\"\n",
    "                   )\n",
    "    g.ax.set_xlim(0,100)\n",
    "    plt.xticks(np.arange(0,101,10),fontsize=15)\n",
    "    plt.yticks(fontsize=15)\n",
    "    plt.xlabel(\"Percent\",fontsize=15)\n",
    "    plt.ylabel(\"\")\n",
    "    plt.title(\"AS Economics Results August 2021\",fontsize=20,pad=10)"
   ]
  },
  {
   "cell_type": "code",
   "execution_count": null,
   "id": "1ff2ba2b",
   "metadata": {
    "scrolled": true
   },
   "outputs": [],
   "source": [
    "def prop_bar_grade_percentages(df): \n",
    "    y,x = 'Class', 'Syllabus grade'\n",
    "    df = df.groupby(x)[y].value_counts(normalize=True)\n",
    "    df = df.mul(100)\n",
    "    df = df.rename('Percent').reset_index()\n",
    "    sns.set()\n",
    "    g = sns.catplot(y=\"Syllabus grade\", \n",
    "                    x=\"Percent\",\n",
    "                    hue=\"Class\",\n",
    "                    kind='bar',\n",
    "                    data=df,\n",
    "                    order=[\"U\",\"E\",\"D\",\"C\",\"B\",\"A\"][::-1], \n",
    "                    hue_order=[\"AS10\",\"AS9\",\"AS6\",\"AS5\",\"AS4\",\"AS3\",\"AS2\",\"AS1\"][::-1],\n",
    "                    orient=\"h\",\n",
    "                    height=10,\n",
    "                    aspect=1.5,\n",
    "                    edgecolor=\"white\"\n",
    "                    )\n",
    "    g.ax.set_xlim(0,100)\n",
    "    plt.xticks(np.arange(0,101,10),fontsize=15)\n",
    "    plt.yticks(fontsize=15)\n",
    "    plt.xlabel(\"\")\n",
    "    plt.ylabel(\"\")\n",
    "    plt.title(\"AS Economics Results August 2021\",fontsize=20,pad=10)"
   ]
  },
  {
   "cell_type": "code",
   "execution_count": null,
   "id": "eb61239b",
   "metadata": {},
   "outputs": [],
   "source": [
    "def waffle_plots_grade_distribution(df):\n",
    "    possible_grade_list = [\"U\",\"E\",\"D\",\"C\",\"B\",\"A\"][::-1]\n",
    "    class_list = [\"AS10\",\"AS9\",\"AS6\",\"AS5\",\"AS4\",\"AS3\",\"AS2\",\"AS1\"][::-1]\n",
    "    y,x = 'Class', 'Syllabus grade'\n",
    "    df = df.groupby(x)[y].value_counts(normalize=True)\n",
    "    df = df.mul(100)\n",
    "    df = df.rename('Percent').reset_index().sort_values(by=[\"Class\",\"Syllabus grade\"])\n",
    "    main_dictionary = dict()\n",
    "    \n",
    "    for group in class_list:\n",
    "        grade_list = list(df[df[\"Class\"]==group][\"Syllabus grade\"])\n",
    "        percentage_list = list(df[df[\"Class\"]==group][\"Percent\"])\n",
    "        grade_dict = dict(zip(grade_list,percentage_list))\n",
    "        for grade in possible_grade_list: \n",
    "            if grade not in grade_dict.keys():\n",
    "                grade_dict[grade]=0 \n",
    "        main_dictionary[group]=grade_dict\n",
    "    main_df=pd.DataFrame()\n",
    "   \n",
    "    for group in class_list:\n",
    "        results = list(main_dictionary[group].values())\n",
    "        grades = list(main_dictionary[group].keys())\n",
    "        class_df = pd.DataFrame({\"Grades\":grades,group:results},\n",
    "                                index=[0,1,2,3,4,5]).sort_values(by=\"Grades\").set_index(\"Grades\")\n",
    "        main_df = pd.concat([main_df,class_df],axis=1)\n",
    "    main_df = main_df.transpose()\n",
    "    for i in possible_grade_list:\n",
    "        data=dict(main_df[i])\n",
    "        plt.figure(FigureClass=Waffle,\n",
    "        labels=[f\"{k} ({int(v)}%)\" for k, v in data.items()],\n",
    "        rows=10,\n",
    "        columns=10,\n",
    "        values=data,\n",
    "        legend={'loc': 'upper left', 'bbox_to_anchor': (1, 1)},\n",
    "        #icons='user-graduate',\n",
    "        block_arranging_style='new-line',\n",
    "        #vertical=True\n",
    "        )\n",
    "        plt.title(f\"{i} grades by class\")\n",
    "        plt.savefig(f\"../graphs/{i} grade distribution waffle\")\n",
    "\n",
    "        \n",
    "        "
   ]
  },
  {
   "cell_type": "code",
   "execution_count": null,
   "id": "a371687d",
   "metadata": {},
   "outputs": [],
   "source": [
    "def waffle_plots_individual_class(df):\n",
    "    \n",
    "    possible_grade_list = list(df[\"Syllabus grade\"].unique())\n",
    "    class_list = [\"AS10\",\"AS9\",\"AS6\",\"AS5\",\"AS4\",\"AS3\",\"AS2\",\"AS1\"][::-1]\n",
    "    y,x = 'Class', 'Syllabus grade'\n",
    "    df = df.groupby(x)[y].value_counts(normalize=True)\n",
    "    df = df.mul(100)\n",
    "    df = df.rename('Percent').reset_index().sort_values(by=[\"Class\",\"Syllabus grade\"])\n",
    "    main_dictionary = dict()\n",
    "    \n",
    "    for group in class_list:\n",
    "        grade_list = list(df[df[\"Class\"]==group][\"Syllabus grade\"])\n",
    "        percentage_list = list(df[df[\"Class\"]==group][\"Percent\"])\n",
    "        grade_dict = dict(zip(grade_list,percentage_list))\n",
    "        for grade in possible_grade_list: \n",
    "            if grade not in grade_dict.keys():\n",
    "                grade_dict[grade]=0 \n",
    "        main_dictionary[group]=grade_dict\n",
    "    main_df=pd.DataFrame()\n",
    "   \n",
    "    for group in class_list:\n",
    "        results = list(main_dictionary[group].values())\n",
    "        grades = list(main_dictionary[group].keys())\n",
    "        class_df = pd.DataFrame({\"Grades\":grades,group:results},\n",
    "                                index=[0,1,2,3,4,5]).sort_values(by=\"Grades\").set_index(\"Grades\")\n",
    "        main_df = pd.concat([main_df,class_df],axis=1)\n",
    "    \n",
    "\n",
    "    plots=dict()\n",
    "    for i in range(len(class_list)):\n",
    "        plots[821+i]={\n",
    "            'values': main_df[class_list[i]],\n",
    "            'labels': [f\"{k} ({int(v)}%)\" for k, v in main_df[class_list[i]].items()],\n",
    "            'legend': {\n",
    "                'loc': 'upper left',\n",
    "                'bbox_to_anchor': (1.05, 1),\n",
    "                'fontsize': 12.5\n",
    "            },\n",
    "            'title': {\n",
    "                'label': f'{class_list[i]} results',\n",
    "                'loc': 'center',\n",
    "                'fontdict':{\n",
    "                    'fontsize':15\n",
    "                }\n",
    "            }\n",
    "        }\n",
    "    \n",
    "    fig=plt.figure(FigureClass=Waffle,plots=plots,rows=10,columns=10, figsize=(25,50))\n",
    "    plt.show()\n",
    "    "
   ]
  },
  {
   "cell_type": "code",
   "execution_count": null,
   "id": "a52beb0a",
   "metadata": {},
   "outputs": [],
   "source": [
    "def waffle_plots_single_class(df):\n",
    "    \n",
    "    possible_grade_list = [\"U\",\"E\",\"D\",\"C\",\"B\",\"A\"][::-1]\n",
    "    class_list = [\"AS10\",\"AS9\",\"AS6\",\"AS5\",\"AS4\",\"AS3\",\"AS2\",\"AS1\"][::-1]\n",
    "    x,y = 'Class', 'Syllabus grade'\n",
    "    df = df.groupby(x)[y].value_counts(normalize=True)\n",
    "    df = df.mul(100)\n",
    "    df = df.rename('Percent').reset_index().sort_values(by=[\"Class\",\"Syllabus grade\"])\n",
    "    main_dictionary = dict()\n",
    "    \n",
    "    for group in class_list:\n",
    "        grade_list = list(df[df[\"Class\"]==group][\"Syllabus grade\"])\n",
    "        percentage_list = list(df[df[\"Class\"]==group][\"Percent\"])\n",
    "        grade_dict = dict(zip(grade_list,percentage_list))\n",
    "        for grade in possible_grade_list: \n",
    "            if grade not in grade_dict.keys():\n",
    "                grade_dict[grade]=0 \n",
    "        main_dictionary[group]=grade_dict\n",
    "    main_df=pd.DataFrame()\n",
    "   \n",
    "    for group in class_list:\n",
    "        results = list(main_dictionary[group].values())\n",
    "        grades = list(main_dictionary[group].keys())\n",
    "        class_df = pd.DataFrame({\"Grades\":grades,group:results},\n",
    "                                index=[0,1,2,3,4,5]).sort_values(by=\"Grades\").set_index(\"Grades\")\n",
    "        main_df = pd.concat([main_df,class_df],axis=1)\n",
    "    \n",
    "    for i in class_list:\n",
    "        data=dict(main_df[i])\n",
    "        plt.figure(FigureClass=Waffle,\n",
    "        labels=[f\"{k} ({int(v)}%)\" for k, v in data.items()],\n",
    "        rows=10,\n",
    "        columns=10,\n",
    "        values=data,\n",
    "        legend={'loc': 'upper left', 'bbox_to_anchor': (1, 1)},\n",
    "        #icons='user-graduate',\n",
    "        block_arranging_style='new-line',\n",
    "        #vertical=True\n",
    "        )\n",
    "        plt.title(f\"{i} grades by class\")\n",
    "        plt.savefig(f\"../graphs/{i} waffle\")"
   ]
  },
  {
   "cell_type": "markdown",
   "id": "c606d53c",
   "metadata": {},
   "source": [
    "### Analyzing prediction accuracy"
   ]
  },
  {
   "cell_type": "code",
   "execution_count": 15,
   "id": "b71504ff",
   "metadata": {},
   "outputs": [],
   "source": [
    "def accuracy_descriptor(accuracy_metric): \n",
    "    if accuracy_metric == 0: \n",
    "        return \"Correct\" \n",
    "    if accuracy_metric<0: \n",
    "        return \"Over\"\n",
    "    if accuracy_metric>0:\n",
    "        return \"Under\""
   ]
  },
  {
   "cell_type": "code",
   "execution_count": 16,
   "id": "ac051625",
   "metadata": {
    "scrolled": true
   },
   "outputs": [],
   "source": [
    "grade_list = list(merged_df[\"Syllabus grade\"].unique())\n",
    "grade_map = {k: v for k,v in zip(grade_list,list(range(1,len(grade_list)+1))[::-1])}\n",
    "merged_df[\"Syllabus grade encoded\"]=merged_df[\"Syllabus grade\"].map(grade_map)\n",
    "merged_df[\"Predicted grade encoded\"]=merged_df[\"Predicted grade\"].map(grade_map)\n",
    "merged_df[\"Accuracy metric\"] = merged_df[\"Syllabus grade encoded\"]-merged_df[\"Predicted grade encoded\"]\n",
    "merged_df.drop_duplicates(subset=[\"Candidate name\"],keep=\"first\",inplace=True)\n",
    "merged_df[\"Accuracy description\"]=merged_df[\"Accuracy metric\"].apply(lambda x:accuracy_descriptor(x))\n"
   ]
  },
  {
   "cell_type": "markdown",
   "id": "36159917",
   "metadata": {},
   "source": [
    "### Data for Sankey diagram"
   ]
  },
  {
   "cell_type": "code",
   "execution_count": null,
   "id": "5a132e29",
   "metadata": {},
   "outputs": [],
   "source": [
    "merged_df[\"Predicted grade\"].value_counts()"
   ]
  },
  {
   "cell_type": "code",
   "execution_count": null,
   "id": "71978cdb",
   "metadata": {
    "scrolled": true
   },
   "outputs": [],
   "source": [
    "x,y = 'Predicted grade', 'Syllabus grade'\n",
    "merged_df.groupby(x)[y].value_counts()\n",
    "\n"
   ]
  },
  {
   "cell_type": "markdown",
   "id": "8be90946",
   "metadata": {},
   "source": [
    "### Prediction graphing functions"
   ]
  },
  {
   "cell_type": "code",
   "execution_count": 19,
   "id": "0cc937b6",
   "metadata": {},
   "outputs": [],
   "source": [
    "def waffle_plots_summary_grade_predictions(merged_df): \n",
    "    x,y = 'Predicted grade', 'Accuracy description'\n",
    "    merged_df_grouped = merged_df.groupby(x)[y].value_counts(normalize=True)\n",
    "    merged_df_grouped = merged_df_grouped.mul(100)\n",
    "    merged_df_grouped = merged_df_grouped.rename('Percent').reset_index().sort_values(by=[\"Predicted grade\",\"Accuracy description\"])\n",
    "    \n",
    "    possible_grade_list = [\"A\",\"B\",\"C\",\"D\",\"E\",\"U\"]\n",
    "    main_dictionary = dict()\n",
    "    for grade in possible_grade_list:\n",
    "        grade_list = list(merged_df_grouped[merged_df_grouped[\"Predicted grade\"]==grade][\"Accuracy description\"])\n",
    "        percentage_list = list(merged_df_grouped[merged_df_grouped[\"Predicted grade\"]==grade][\"Percent\"])\n",
    "        grade_dict = dict(zip(grade_list,percentage_list))\n",
    "        for element in [\"Correct\",\"Over\",\"Under\"]: \n",
    "            if element not in grade_dict.keys():\n",
    "                grade_dict[element]=0\n",
    "        main_dictionary[grade]=grade_dict\n",
    "\n",
    "    for i in possible_grade_list:\n",
    "            data=main_dictionary[i]\n",
    "            plt.figure(FigureClass=Waffle,\n",
    "            labels=[f\"{k} prediction ({int(v)}%)\" for k, v in data.items()],\n",
    "            rows=10,\n",
    "            columns=10,\n",
    "            values=data,\n",
    "            legend={'loc': 'upper left', 'bbox_to_anchor': (1, 1)},\n",
    "            #icons='user-graduate',\n",
    "            block_arranging_style='new-line',\n",
    "            #vertical=True\n",
    "            )\n",
    "            plt.title(f\"{i} grade predictions accuracy\")\n",
    "            plt.savefig(f\"../graphs/{i} prediction accuracy waffle\")"
   ]
  },
  {
   "cell_type": "code",
   "execution_count": null,
   "id": "da5a84c9",
   "metadata": {},
   "outputs": [],
   "source": [
    "def waffle_plots_complete_grade_predictions(merged_df):\n",
    "    y,x = 'Syllabus grade', 'Predicted grade'\n",
    "    merged_df_grouped = merged_df.groupby(x)[y].value_counts(normalize=True)\n",
    "    merged_df_grouped = merged_df_grouped.mul(100)\n",
    "    merged_df_grouped = merged_df_grouped.rename('Percent').reset_index().sort_values(by=[\"Syllabus grade\",\"Predicted grade\"])\n",
    "    possible_grade_list = [\"A\",\"B\",\"C\",\"D\",\"E\",\"U\"]\n",
    "    main_dictionary = dict()\n",
    "    for grade in possible_grade_list:\n",
    "        grade_list = list(merged_df_grouped[merged_df_grouped[\"Syllabus grade\"]==grade][\"Predicted grade\"])\n",
    "        percentage_list = list(merged_df_grouped[merged_df_grouped[\"Syllabus grade\"]==grade][\"Percent\"])\n",
    "        grade_dict = dict(zip(grade_list,percentage_list))\n",
    "        for element in [\"A\",\"B\",\"C\",\"D\",\"E\",\"U\"]: \n",
    "            if element not in grade_dict.keys():\n",
    "                grade_dict[element]=0\n",
    "        main_dictionary[grade]=grade_dict\n",
    "\n",
    "    for i in possible_grade_list:\n",
    "            data=main_dictionary[i]\n",
    "            plt.figure(FigureClass=Waffle,\n",
    "            labels=[f\"{k} ({int(v)}%)\" for k, v in data.items()],\n",
    "            rows=10,\n",
    "            columns=10,\n",
    "            values=data,\n",
    "            legend={'loc': 'upper left', 'bbox_to_anchor': (1, 1)},\n",
    "            #icons='user-graduate',\n",
    "            block_arranging_style='new-line',\n",
    "            #vertical=True\n",
    "            )\n",
    "            plt.title(f\"{i} grade predictions accuracy\")"
   ]
  },
  {
   "cell_type": "code",
   "execution_count": 20,
   "id": "77f842ad",
   "metadata": {},
   "outputs": [
    {
     "data": {
      "image/png": "[encoded data removed]",
      "text/plain": [
       "<Waffle size 432x288 with 1 Axes>"
      ]
     },
     "metadata": {
      "needs_background": "light"
     },
     "output_type": "display_data"
    },
    {
     "data": {
      "image/png": "[encoded data removed]",
      "text/plain": [
       "<Waffle size 432x288 with 1 Axes>"
      ]
     },
     "metadata": {
      "needs_background": "light"
     },
     "output_type": "display_data"
    },
    {
     "data": {
      "image/png": "[encoded data removed]",
      "text/plain": [
       "<Waffle size 432x288 with 1 Axes>"
      ]
     },
     "metadata": {
      "needs_background": "light"
     },
     "output_type": "display_data"
    },
    {
     "data": {
      "image/png": "[encoded data removed]",
      "text/plain": [
       "<Waffle size 432x288 with 1 Axes>"
      ]
     },
     "metadata": {
      "needs_background": "light"
     },
     "output_type": "display_data"
    },
    {
     "data": {
      "image/png": "[encoded data removed]",
      "text/plain": [
       "<Waffle size 432x288 with 1 Axes>"
      ]
     },
     "metadata": {
      "needs_background": "light"
     },
     "output_type": "display_data"
    },
    {
     "data": {
      "image/png": "[encoded data removed]",
      "text/plain": [
       "<Waffle size 432x288 with 1 Axes>"
      ]
     },
     "metadata": {
      "needs_background": "light"
     },
     "output_type": "display_data"
    }
   ],
   "source": [
    "waffle_plots_summary_grade_predictions(merged_df)"
   ]
  },
  {
   "cell_type": "code",
   "execution_count": null,
   "id": "fabf97ff",
   "metadata": {},
   "outputs": [],
   "source": [
    "waffle_plots_complete_grade_predictions(merged_df)"
   ]
  },
  {
   "cell_type": "code",
   "execution_count": 30,
   "id": "91ab2d3a",
   "metadata": {},
   "outputs": [
    {
     "data": {
      "image/png": "[encoded data removed]",
      "text/plain": [
       "<Figure size 1146.6x720 with 1 Axes>"
      ]
     },
     "metadata": {},
     "output_type": "display_data"
    }
   ],
   "source": [
    "prop_bar_overall_percentages(df)"
   ]
  },
  {
   "cell_type": "code",
   "execution_count": null,
   "id": "704a4416",
   "metadata": {},
   "outputs": [],
   "source": []
  }
 ],
 "metadata": {
  "kernelspec": {
   "display_name": "Python 3",
   "language": "python",
   "name": "python3"
  },
  "language_info": {
   "codemirror_mode": {
    "name": "ipython",
    "version": 3
   },
   "file_extension": ".py",
   "mimetype": "text/x-python",
   "name": "python",
   "nbconvert_exporter": "python",
   "pygments_lexer": "ipython3",
   "version": "3.8.6"
  }
 },
 "nbformat": 4,
 "nbformat_minor": 5
}
